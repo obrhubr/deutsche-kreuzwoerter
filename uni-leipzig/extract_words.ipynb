{
 "cells": [
  {
   "cell_type": "code",
   "execution_count": null,
   "metadata": {},
   "outputs": [],
   "source": [
    "import pandas as pd"
   ]
  },
  {
   "cell_type": "code",
   "execution_count": null,
   "metadata": {},
   "outputs": [],
   "source": [
    "df = pd.read_csv(\n",
    "\t\"deu_wikipedia_2021_1M-words.txt\", \n",
    "\tsep=\"\\t\", \n",
    "\theader=None,\n",
    "\tindex_col=0,\n",
    "\tnames=[\"word\", \"occurences\"]\n",
    ")\n",
    "df = df.dropna()"
   ]
  },
  {
   "cell_type": "code",
   "execution_count": null,
   "metadata": {},
   "outputs": [],
   "source": [
    "# Filter rows for non german chars\n",
    "filtered = df[~df['word'].str.contains(r'\\d')]\n",
    "filtered = filtered[filtered['word'].str.contains(r'^[a-zA-ZäöüßÄÖÜ\\s]+$')]\n",
    "\n",
    "# Map umlaute to their expanded form\n",
    "umlaut_map = {\n",
    "    'ä': 'ae', 'ö': 'oe', 'ü': 'ue', 'ß': 'ss',\n",
    "    'Ä': 'Ae', 'Ö': 'Oe', 'Ü': 'Ue'\n",
    "}\n",
    "def replace_umlauts(word):\n",
    "    for umlaut, replacement in umlaut_map.items():\n",
    "        word = word.replace(umlaut, replacement)\n",
    "    return word\n",
    "\n",
    "filtered['word'] = filtered['word'].apply(replace_umlauts)\n",
    "filtered['word'] = filtered['word'].str.replace(' ', '')\n",
    "filtered['word'] = filtered['word'].str.upper()\n",
    "# Remove duplicates\n",
    "filtered = filtered.drop_duplicates(subset='word')"
   ]
  },
  {
   "cell_type": "code",
   "execution_count": null,
   "metadata": {},
   "outputs": [],
   "source": [
    "# Filter the list for valid crossword words\n",
    "filtered = filtered[filtered['word'].str.len() <= 21]"
   ]
  },
  {
   "cell_type": "code",
   "execution_count": null,
   "metadata": {},
   "outputs": [],
   "source": [
    "# Visualise length distributions\n",
    "filtered['length'] = filtered['word'].apply(len)\n",
    "grouped = filtered.groupby('length')\n",
    "\n",
    "for length, group in grouped:\n",
    "    print(f\"Length: {length}. Words: {len(group)}\")\n",
    "    \n",
    "print(f\"Total length: {len(filtered)}\")"
   ]
  },
  {
   "cell_type": "code",
   "execution_count": null,
   "metadata": {},
   "outputs": [],
   "source": [
    "sorted_df = filtered.assign(length=filtered['word'].str.len()).sort_values(by=['length', 'word']).drop(columns='length')\n",
    "sorted_df[\"score\"] = 50\n",
    "sorted_df[[\"word\", \"score\"]].to_csv(\"filtered.txt\", index=None, header=None, sep=\";\")"
   ]
  }
 ],
 "metadata": {
  "kernelspec": {
   "display_name": "Python 3",
   "language": "python",
   "name": "python3"
  },
  "language_info": {
   "codemirror_mode": {
    "name": "ipython",
    "version": 3
   },
   "file_extension": ".py",
   "mimetype": "text/x-python",
   "name": "python",
   "nbconvert_exporter": "python",
   "pygments_lexer": "ipython3",
   "version": "3.10.14"
  }
 },
 "nbformat": 4,
 "nbformat_minor": 2
}
