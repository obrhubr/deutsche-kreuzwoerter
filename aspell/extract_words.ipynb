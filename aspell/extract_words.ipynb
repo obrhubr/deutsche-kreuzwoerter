{
 "cells": [
  {
   "cell_type": "code",
   "execution_count": 1,
   "metadata": {},
   "outputs": [],
   "source": [
    "import pandas as pd"
   ]
  },
  {
   "cell_type": "code",
   "execution_count": 10,
   "metadata": {},
   "outputs": [],
   "source": [
    "lines = []\n",
    "with open(\"wörter.txt\", \"r\") as f:\n",
    "\tlines = f.readlines()\n",
    "\n",
    "words = []\n",
    "for line in lines:\n",
    "\t# Remove whitespace and line terminations\n",
    "\tline = line.strip()\n",
    "\n",
    "\tw = line.split(\" \")\n",
    "\n",
    "\t# Score derivatives and root words\n",
    "\tfor index, word in enumerate(w):\n",
    "\t\tscore = 50 if index == 0 else 25\n",
    "\n",
    "\t\t# Except plural derivative, also 50\n",
    "\t\tif index == 1 and (word[-2:] == \"en\" or word[-1:] == \"e\") and word[-4:-2] not in [\"st\", \"er\", \"en\", \"et\"]:\n",
    "\t\t\tscore = 50\n",
    "\n",
    "\t\twords += [{\"word\": word, \"score\": score}]"
   ]
  },
  {
   "cell_type": "code",
   "execution_count": 11,
   "metadata": {},
   "outputs": [],
   "source": [
    "df = pd.DataFrame.from_records(words)"
   ]
  },
  {
   "cell_type": "code",
   "execution_count": 12,
   "metadata": {},
   "outputs": [],
   "source": [
    "# Filter rows for non german chars\n",
    "filtered = df[~df['word'].str.contains(r'\\d')]\n",
    "filtered = filtered[filtered['word'].str.contains(r'^[a-zA-ZäöüßÄÖÜ\\s]+$')]\n",
    "\n",
    "# Map umlaute to their expanded form\n",
    "umlaut_map = {\n",
    "    'ä': 'ae', 'ö': 'oe', 'ü': 'ue', 'ß': 'ss',\n",
    "    'Ä': 'Ae', 'Ö': 'Oe', 'Ü': 'Ue'\n",
    "}\n",
    "def replace_umlauts(word):\n",
    "    for umlaut, replacement in umlaut_map.items():\n",
    "        word = word.replace(umlaut, replacement)\n",
    "    return word\n",
    "\n",
    "filtered['word'] = filtered['word'].apply(replace_umlauts)\n",
    "filtered['word'] = filtered['word'].str.replace(' ', '')\n",
    "filtered['word'] = filtered['word'].str.upper()\n",
    "# Remove duplicates\n",
    "filtered = filtered.drop_duplicates(subset='word')"
   ]
  },
  {
   "cell_type": "code",
   "execution_count": 13,
   "metadata": {},
   "outputs": [],
   "source": [
    "# Filter the list for valid crossword words\n",
    "filtered = filtered[filtered['word'].str.len() <= 21]"
   ]
  },
  {
   "cell_type": "code",
   "execution_count": 14,
   "metadata": {},
   "outputs": [
    {
     "name": "stdout",
     "output_type": "stream",
     "text": [
      "Length: 1. Words: 26\n",
      "Length: 2. Words: 99\n",
      "Length: 3. Words: 502\n",
      "Length: 4. Words: 1613\n",
      "Length: 5. Words: 4025\n",
      "Length: 6. Words: 8017\n",
      "Length: 7. Words: 13192\n",
      "Length: 8. Words: 20197\n",
      "Length: 9. Words: 29139\n",
      "Length: 10. Words: 36426\n",
      "Length: 11. Words: 41696\n",
      "Length: 12. Words: 43228\n",
      "Length: 13. Words: 38965\n",
      "Length: 14. Words: 32369\n",
      "Length: 15. Words: 25400\n",
      "Length: 16. Words: 19261\n",
      "Length: 17. Words: 13986\n",
      "Length: 18. Words: 9809\n",
      "Length: 19. Words: 6627\n",
      "Length: 20. Words: 4310\n",
      "Length: 21. Words: 2793\n",
      "Total length: 351680\n"
     ]
    }
   ],
   "source": [
    "# Visualise length distributions\n",
    "filtered['length'] = filtered['word'].apply(len)\n",
    "grouped = filtered.groupby('length')\n",
    "\n",
    "for length, group in grouped:\n",
    "    print(f\"Length: {length}. Words: {len(group)}\")\n",
    "    \n",
    "print(f\"Total length: {len(filtered)}\")"
   ]
  },
  {
   "cell_type": "code",
   "execution_count": 15,
   "metadata": {},
   "outputs": [],
   "source": [
    "sorted_df = filtered.assign(length=filtered['word'].str.len()).sort_values(by=['length', 'word']).drop(columns='length')\n",
    "sorted_df.to_csv(\"filtered.txt\", index=None, header=None, sep=\";\")"
   ]
  }
 ],
 "metadata": {
  "kernelspec": {
   "display_name": "Python 3",
   "language": "python",
   "name": "python3"
  },
  "language_info": {
   "codemirror_mode": {
    "name": "ipython",
    "version": 3
   },
   "file_extension": ".py",
   "mimetype": "text/x-python",
   "name": "python",
   "nbconvert_exporter": "python",
   "pygments_lexer": "ipython3",
   "version": "3.10.14"
  }
 },
 "nbformat": 4,
 "nbformat_minor": 2
}
